{
 "cells": [
  {
   "cell_type": "code",
   "execution_count": 1,
   "id": "d6864853-f3bb-4de7-8bb7-8f1b65656300",
   "metadata": {},
   "outputs": [],
   "source": [
    "import sys\n",
    "\n",
    "sys.path.append('../src');"
   ]
  },
  {
   "cell_type": "code",
   "execution_count": 2,
   "id": "c0ffb3ad-72cf-4bb4-be39-f8ecc0301717",
   "metadata": {},
   "outputs": [
    {
     "data": {
      "text/plain": [
       "True"
      ]
     },
     "execution_count": 2,
     "metadata": {},
     "output_type": "execute_result"
    }
   ],
   "source": [
    "import TagMyDatasetTools as tmdt\n",
    "import os\n",
    "\n",
    "OUTPUT_DIR=\"output\";\n",
    "\n",
    "os.mkdir(OUTPUT_DIR)\n",
    "\n",
    "tmdt.dataset_csv_to_dataset_dir('dataset/example.csv',\"dataset\",OUTPUT_DIR)"
   ]
  },
  {
   "cell_type": "code",
   "execution_count": null,
   "id": "3eb689bf-66b6-428b-9f47-159e4c0d912a",
   "metadata": {},
   "outputs": [],
   "source": []
  }
 ],
 "metadata": {
  "kernelspec": {
   "display_name": "Python 3",
   "language": "python",
   "name": "python3"
  },
  "language_info": {
   "codemirror_mode": {
    "name": "ipython",
    "version": 3
   },
   "file_extension": ".py",
   "mimetype": "text/x-python",
   "name": "python",
   "nbconvert_exporter": "python",
   "pygments_lexer": "ipython3",
   "version": "3.8.10"
  }
 },
 "nbformat": 4,
 "nbformat_minor": 5
}
